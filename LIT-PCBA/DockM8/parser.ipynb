{
 "cells": [
  {
   "cell_type": "code",
   "execution_count": null,
   "id": "894926ec",
   "metadata": {},
   "outputs": [],
   "source": []
  },
  {
   "cell_type": "code",
   "execution_count": null,
   "id": "c2a7f094",
   "metadata": {},
   "outputs": [],
   "source": [
    "\n",
    "import os\n",
    "import random\n",
    "import time\n",
    "\n",
    "import numpy as np\n",
    "import pandas as pd\n",
    "import scipy as sp\n",
    "from scipy.stats import pearsonr, gaussian_kde\n",
    "from scipy.spatial.distance import jaccard, pdist, cdist\n",
    "\n",
    "from rdkit import Chem\n",
    "from rdkit.Chem import Draw\n",
    "\n",
    "import matplotlib.pyplot as plt\n",
    "import matplotlib.patches as mpatches\n",
    "\n",
    "from tqdm import tqdm\n",
    "\n",
    "seed=42\n",
    "random.seed(seed)\n",
    "os.environ[\"PYTHONHASHSEED\"] = str(seed)\n",
    "np.random.seed(seed)"
   ]
  },
  {
   "cell_type": "code",
   "execution_count": null,
   "id": "02246100",
   "metadata": {},
   "outputs": [],
   "source": [
    "\n",
    "target = \"ESR1ago\"\n",
    "measures = {\"ESR1ago\":\"Ratio-Fit_LogAC50-Replicate_1\",\n",
    "            \"ESR1ant\":\"Fit_LogAC50-Replicate_1\",\n",
    "            \"PPARG\":\"Ratio Potency (uM)\",\n",
    "            \"TP53\":\"Ratio-Fit_LogAC50-Replicate_1\",}\n",
    "measure = measures[target]\n",
    "\n",
    "with open(os.path.join(target,f\"{target}_actives.smi\")) as f:\n",
    "    actives = np.array([l.strip(\"\\n\").split() for l in f.readlines()])\n",
    "with open(os.path.join(target,f\"{target}_inactives.smi\")) as f:\n",
    "    inactives = np.array([l.strip(\"\\n\").split() for l in f.readlines()])"
   ]
  },
  {
   "cell_type": "code",
   "execution_count": null,
   "id": "1c444983",
   "metadata": {},
   "outputs": [],
   "source": [
    "\n",
    "docking_df = pd.read_csv(os.path.join(target,f\"{target}_scores.csv\"))\n",
    "activity_df = pd.read_csv(os.path.join(target,f\"{target}_datatable.csv\"))"
   ]
  },
  {
   "cell_type": "code",
   "execution_count": null,
   "id": "96ea2210",
   "metadata": {},
   "outputs": [],
   "source": [
    "\n",
    "docking_df.head()"
   ]
  },
  {
   "cell_type": "code",
   "execution_count": null,
   "id": "70310331",
   "metadata": {
    "lines_to_next_cell": 1
   },
   "outputs": [],
   "source": [
    "\n",
    "activity_df.head()"
   ]
  },
  {
   "cell_type": "code",
   "execution_count": null,
   "id": "056973d4",
   "metadata": {
    "lines_to_next_cell": 1
   },
   "outputs": [],
   "source": [
    "\n",
    "def get_sid(id,actives,inactives):\n",
    "    if \"INACT\" in id: sid = int(id.split(\"_\")[0][5:])\n",
    "    else: sid = int(id.split(\"_\")[0][3:])\n",
    "    return float(sid)\n",
    "\n",
    "def get_smi(id,actives,inactives):\n",
    "    if \"INACT\" in id: \n",
    "        sid = id.split(\"_\")[0][5:]\n",
    "        i = np.argwhere(inactives[:,1]==sid)[0]\n",
    "        smi = inactives[:,0][i][0]\n",
    "    else: \n",
    "        sid = id.split(\"_\")[0][3:]\n",
    "        i = np.argwhere(actives[:,1]==sid)[0]\n",
    "        smi = actives[:,0][i][0]\n",
    "    return smi"
   ]
  },
  {
   "cell_type": "code",
   "execution_count": null,
   "id": "e0e33302",
   "metadata": {},
   "outputs": [],
   "source": [
    "\n",
    "docking_df[\"PUBCHEM_SID\"] = docking_df[\"Pose ID\"].apply(get_sid, args=(actives,inactives))\n",
    "print(docking_df[\"PUBCHEM_SID\"])"
   ]
  },
  {
   "cell_type": "code",
   "execution_count": null,
   "id": "6b1f7ed8",
   "metadata": {},
   "outputs": [],
   "source": [
    "\n",
    "docking_df[\"smiles\"] = docking_df[\"Pose ID\"].apply(get_smi, args=(actives,inactives))\n",
    "docking_df.head()"
   ]
  },
  {
   "cell_type": "code",
   "execution_count": null,
   "id": "d3f8f523",
   "metadata": {},
   "outputs": [],
   "source": [
    "\n",
    "activity_df = activity_df[activity_df[\"PUBCHEM_ACTIVITY_OUTCOME\"].isin([\"Active\",\"Inactive\",\"Inconclusive\"])]\n",
    "if measure == \"Fit_LogAC50\":\n",
    "    activity_df[\"pEC50\"] = activity_df[measure].apply(lambda x: -float(x))\n",
    "elif measure == \"EC50\": # measured in uM\n",
    "    activity_df[\"pEC50\"] = activity_df[measure].apply(lambda x: 6-np.log10(float(x)))\n",
    "elif measure == \"Ratio Potency (uM)\":\n",
    "    activity_df[\"pEC50\"] = activity_df[measure].apply(lambda x: 6-np.log10(float(x))) \n",
    "elif measure == \"Potency\":\n",
    "    activity_df[\"pEC50\"] = activity_df[measure].apply(lambda x: 6-np.log10(float(x))) \n",
    "elif measure == \"Potency-Replicate_1\":\n",
    "    measures = [col for col in activity_df.columns if \"Potency-Replicate_\" in col]\n",
    "    # activity_df[\"pEC50\"] = np.nanmean(6-np.log10(activity_df[measures].values.astype(float)),axis=1)\n",
    "    AC50_replicates = 6-np.log10(activity_df[measures].values.astype(float))\n",
    "    mean_pEC50 = [np.nanmean(replicates) if sum(~np.isnan(replicates)) > 1 else np.nan for replicates in AC50_replicates]\n",
    "    activity_df[\"pEC50\"] = mean_pEC50\n",
    "elif measure == \"Fit_LogAC50-Replicate_1\":\n",
    "    measures = [col for col in activity_df.columns if \"Fit_LogAC50-Replicate_\" in col]\n",
    "    # activity_df[\"pEC50\"] = np.nanmean(-activity_df[measures].values.astype(float),axis=1)\n",
    "    AC50_replicates = -activity_df[measures].values.astype(float)\n",
    "    mean_pEC50 = [np.nanmean(replicates) if sum(~np.isnan(replicates)) > 1 else np.nan for replicates in AC50_replicates]\n",
    "    activity_df[\"pEC50\"] = mean_pEC50\n",
    "elif measure == \"Ratio-Fit_LogAC50-Replicate_1\":\n",
    "    measures = [col for col in activity_df.columns if \"Ratio-Fit_LogAC50-Replicate_\" in col]\n",
    "    # activity_df[\"pEC50\"] = np.nanmean(-activity_df[measures].values.astype(float),axis=1)\n",
    "    AC50_replicates = -activity_df[measures].values.astype(float)\n",
    "    mean_pEC50 = [np.nanmean(replicates) if sum(~np.isnan(replicates)) > 1 else np.nan for replicates in AC50_replicates]\n",
    "    activity_df[\"pEC50\"] = mean_pEC50\n",
    "elif measure == \"W460-Fit_LogAC50-Replicate_1\":\n",
    "    measures = [col for col in activity_df.columns if \"W460-Fit_LogAC50-Replicate_\" in col]\n",
    "    # activity_df[\"pEC50\"] = np.nanmean(-activity_df[measures].values.astype(float),axis=1)\n",
    "    AC50_replicates = -activity_df[measures].values.astype(float)\n",
    "    mean_pEC50 = [np.nanmean(replicates) if sum(~np.isnan(replicates)) > 1 else np.nan for replicates in AC50_replicates]\n",
    "    activity_df[\"pEC50\"] = mean_pEC50\n",
    "elif measure == \"W530-Fit_LogAC50-Replicate_1\":\n",
    "    measures = [col for col in activity_df.columns if \"W530-Fit_LogAC50-Replicate_\" in col]\n",
    "    # activity_df[\"pEC50\"] = np.nanmean(-activity_df[measures].values.astype(float),axis=1)\n",
    "    AC50_replicates = -activity_df[measures].values.astype(float)\n",
    "    mean_pEC50 = [np.nanmean(replicates) if sum(~np.isnan(replicates)) > 1 else np.nan for replicates in AC50_replicates]\n",
    "    activity_df[\"pEC50\"] = mean_pEC50\n",
    "elif measure == \"Fit_LogAC50\":\n",
    "    measures = [col for col in activity_df.columns if \"Fit_LogAC50\" in col]\n",
    "    # activity_df[\"pEC50\"] = np.nanmean(-activity_df[measures].values.astype(float),axis=1)\n",
    "    AC50_replicates = -activity_df[measures].values.astype(float)\n",
    "    mean_pEC50 = [np.nanmean(replicates) if sum(~np.isnan(replicates)) > 1 else np.nan for replicates in AC50_replicates]\n",
    "    activity_df[\"pEC50\"] = mean_pEC50\n",
    "activity_df[\"pEC50\"] = activity_df[\"pEC50\"].fillna(4.0)\n",
    "activity_df.head()"
   ]
  },
  {
   "cell_type": "code",
   "execution_count": null,
   "id": "a5e1f14e",
   "metadata": {},
   "outputs": [],
   "source": [
    "\n",
    "new_df = pd.merge(activity_df[[\"PUBCHEM_SID\",\"PUBCHEM_CID\",\"PUBCHEM_EXT_DATASOURCE_SMILES\",\n",
    "                               \"PUBCHEM_ACTIVITY_OUTCOME\",measure,\"pEC50\",\"PUBCHEM_ACTIVITY_SCORE\",]],\n",
    "                  docking_df, on=\"PUBCHEM_SID\")\n",
    "new_df.rename(columns={\"PUBCHEM_ACTIVITY_SCORE\":\"activity\"},inplace=True)\n",
    "new_df[\"active\"] = new_df[\"PUBCHEM_ACTIVITY_OUTCOME\"].apply(lambda x: int(\"Inactive\" not in x))"
   ]
  },
  {
   "cell_type": "code",
   "execution_count": null,
   "id": "cf1fce2d",
   "metadata": {},
   "outputs": [],
   "source": [
    "\n",
    "print(f\"Size before dropping duplicate molecules: {new_df.shape[0]}\")\n",
    "# Drop duplicates by taking the mean of reported values \n",
    "_, idx = np.unique(new_df[\"smiles\"].values, return_index=True)\n",
    "molecules = new_df[\"smiles\"].values[np.sort(idx)]\n",
    "for molecule in tqdm(molecules[:]):\n",
    "    mol_df = new_df[new_df[\"smiles\"] == molecule]\n",
    "    new_df.loc[new_df[\"smiles\"]==molecule, \"pEC50\"] = np.mean(mol_df[\"pEC50\"].values)\n",
    "new_df.drop_duplicates(\"smiles\", keep=\"first\", inplace=True)\n",
    "new_df.reset_index(drop=True, inplace=True)\n",
    "print(f\"Size after dropping duplicate molecules: {new_df.shape[0]}\")"
   ]
  },
  {
   "cell_type": "code",
   "execution_count": null,
   "id": "07a6c08c",
   "metadata": {},
   "outputs": [],
   "source": [
    "\n",
    "new_df.head()"
   ]
  },
  {
   "cell_type": "code",
   "execution_count": null,
   "id": "ffe12dbc",
   "metadata": {},
   "outputs": [],
   "source": [
    "\n",
    "new_df.to_csv(os.path.join(target,f\"{target}_data.csv\"),index=False)"
   ]
  },
  {
   "cell_type": "code",
   "execution_count": null,
   "id": "c4ab82da",
   "metadata": {},
   "outputs": [],
   "source": []
  }
 ],
 "metadata": {
  "jupytext": {
   "cell_metadata_filter": "-all",
   "main_language": "python",
   "notebook_metadata_filter": "-all"
  }
 },
 "nbformat": 4,
 "nbformat_minor": 5
}
