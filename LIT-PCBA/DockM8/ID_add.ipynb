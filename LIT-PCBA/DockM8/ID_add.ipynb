{
 "cells": [
  {
   "cell_type": "code",
   "execution_count": null,
   "id": "57c80f94",
   "metadata": {},
   "outputs": [],
   "source": []
  },
  {
   "cell_type": "code",
   "execution_count": null,
   "id": "0dd18bce",
   "metadata": {},
   "outputs": [],
   "source": [
    "\n",
    "import os\n",
    "import random\n",
    "import time\n",
    "\n",
    "import numpy as np\n",
    "import pandas as pd\n",
    "import scipy as sp\n",
    "from scipy.stats import pearsonr, gaussian_kde\n",
    "from scipy.spatial.distance import jaccard, pdist, cdist\n",
    "\n",
    "from rdkit import Chem\n",
    "from rdkit.Chem import Draw\n",
    "\n",
    "import matplotlib.pyplot as plt\n",
    "import matplotlib.patches as mpatches\n",
    "\n",
    "seed=42\n",
    "random.seed(seed)\n",
    "os.environ[\"PYTHONHASHSEED\"] = str(seed)\n",
    "np.random.seed(seed)"
   ]
  },
  {
   "cell_type": "code",
   "execution_count": null,
   "id": "7bfe5d60",
   "metadata": {
    "lines_to_next_cell": 1
   },
   "outputs": [],
   "source": [
    "\n",
    "target = \"ESR1ago\""
   ]
  },
  {
   "cell_type": "code",
   "execution_count": null,
   "id": "eb4a1af0",
   "metadata": {},
   "outputs": [],
   "source": [
    "\n",
    "def converter(target,file_name):\n",
    "    sppl = Chem.SDMolSupplier(file_name)\n",
    "    outname = file_name.replace(\".sdf\", \".smi\")\n",
    "    out_file = open(os.path.join(target,outname), \"w\")\n",
    "    smiles = []\n",
    "    for mol in sppl:\n",
    "        if mol is not None:# some compounds cannot be loaded.\n",
    "            smi = Chem.MolToSmiles(mol)\n",
    "            if smi not in smiles:\n",
    "                name = mol.GetProp(\"_Name\")\n",
    "                out_file.write(f\"{smi} {name}\\n\")\n",
    "                smiles.append(smi)\n",
    "    out_file.close()\n",
    "converter(target,os.path.join(target,f\"{target}_inactives.sdf\"))"
   ]
  },
  {
   "cell_type": "code",
   "execution_count": null,
   "id": "c68de868",
   "metadata": {},
   "outputs": [],
   "source": []
  }
 ],
 "metadata": {
  "jupytext": {
   "cell_metadata_filter": "-all",
   "main_language": "python",
   "notebook_metadata_filter": "-all"
  }
 },
 "nbformat": 4,
 "nbformat_minor": 5
}
