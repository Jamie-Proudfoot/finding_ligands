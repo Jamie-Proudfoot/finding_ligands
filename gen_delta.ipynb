{
 "cells": [
  {
   "cell_type": "code",
   "execution_count": null,
   "id": "9b4686f5",
   "metadata": {},
   "outputs": [],
   "source": [
    "import sys\n",
    "import os\n",
    "import math\n",
    "import traceback\n",
    "\n",
    "import numpy as np\n",
    "import pandas as pd\n",
    "\n",
    "from tqdm.auto import tqdm\n",
    "tqdm.pandas()\n",
    "\n",
    "import time\n",
    "import logging\n",
    "\n",
    "import warnings\n",
    "warnings.filterwarnings(\"ignore\")\n",
    "\n",
    "from natsort import natsorted\n",
    "\n",
    "# Load local version of delta_LinF9_XGB (modified from original)\n",
    "path_to_XGB = os.path.realpath(os.path.join(\".\",\"delta_LinF9_XGB\",\"script\"))\n",
    "sys.path.append(os.path.abspath(path_to_XGB))\n",
    "from runXGB_all import run_XGB # importing from local folder\n",
    "# WARNING: above must be run using the \"DXGB\" environment\n",
    "# envs/DXGB.yml"
   ]
  },
  {
   "cell_type": "code",
   "execution_count": null,
   "id": "7de6ac6e",
   "metadata": {},
   "outputs": [],
   "source": [
    "\n",
    "target_name = \"EGFR\"\n",
    "fpLen = 2048"
   ]
  },
  {
   "cell_type": "code",
   "execution_count": null,
   "id": "3e24a08b",
   "metadata": {},
   "outputs": [],
   "source": [
    "\n",
    "os.chdir(f\"{target_name}\")\n",
    "cwd = os.getcwd()\n",
    "path_to_ligands = os.path.join(cwd,\"conformers\")\n",
    "path_to_protein = os.path.join(cwd,f\"{target_name}.pdb\")\n",
    "data_file = f\"{target_name}_data_3d_pKi.csv\"\n",
    "l = 2048 # 2048-bit Morgan FP\n",
    "data = pd.read_csv(data_file)\n",
    "data = data.iloc[:]"
   ]
  },
  {
   "cell_type": "code",
   "execution_count": null,
   "id": "94cfbfe6",
   "metadata": {},
   "outputs": [],
   "source": [
    "\n",
    "vinaF = [f\"vinaF_{i}\" for i in range(49)]\n",
    "betaScore = [\"betaScore\"]\n",
    "ligCover = [\"ligCover\"]\n",
    "sasaF = [f\"sasaF_{i}\" for i in range(30)]\n",
    "ligF = [f\"ligF_{i}\" for i in range(10)]\n",
    "watF = [f\"watF_{i}\" for i in range(3)]\n",
    "LinF9 = [\"LinF9\"]\n",
    "XGB = [\"XGB\"]\n",
    "descList = vinaF + betaScore + ligCover + sasaF + ligF + watF + LinF9 + XGB"
   ]
  },
  {
   "cell_type": "code",
   "execution_count": null,
   "id": "853d5034",
   "metadata": {},
   "outputs": [],
   "source": [
    "\n",
    "temp = []\n",
    "t0_0 = time.time()\n",
    "pro = path_to_protein\n",
    "os.chdir(path_to_ligands)\n",
    "for molec in data[\"molecule_chembl_id\"].values:\n",
    "    lig = f\"{molec}.sdf\"\n",
    "    try:\n",
    "        delta = {}\n",
    "        print(f\"Re-scoring docking for {lig}\")\n",
    "        results  = run_XGB(pro, lig).values()\n",
    "        flat_results = [x for xs in results for x in xs]\n",
    "        delta.update(zip(descList,flat_results))\n",
    "    except Exception as e:\n",
    "        delta = {desc: None for desc in descList}\n",
    "        print(f\"Re-scoring failed for {lig}\")\n",
    "        logging.error(e)\n",
    "    temp.append(delta)\n",
    "t1_0 = time.time()\n",
    "print(f\"Total time taken (s): {t1_0-t0_0}\")\n",
    "\n",
    "temp = pd.DataFrame(temp)\n",
    "data.reset_index(drop=True, inplace=True)\n",
    "output = pd.concat((data, pd.DataFrame(temp)), axis=1)\n",
    "print(f\"Shape before adding delta descriptors: {data.shape}\")\n",
    "print(f\"Shape before filtering NaN values: {output.shape}\")\n",
    "output.dropna(axis=0, how=\"any\", inplace=True)\n",
    "print(f\"Shape after filtering NaN values: {output.shape}\")\n",
    "output.reset_index(drop=True, inplace=True)\n",
    "print(f\"Shape after adding delta descriptors: {output.shape}\")\n",
    "os.chdir(cwd)\n",
    "output.to_csv(f\"{target_name}-{l}_data_3d_delta_pKi.csv\",index=False)"
   ]
  }
 ],
 "metadata": {
  "jupytext": {
   "cell_metadata_filter": "-all",
   "main_language": "python",
   "notebook_metadata_filter": "-all"
  }
 },
 "nbformat": 4,
 "nbformat_minor": 5
}
